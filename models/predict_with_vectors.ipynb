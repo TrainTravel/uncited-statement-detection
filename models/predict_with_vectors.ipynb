{
 "cells": [
  {
   "cell_type": "markdown",
   "metadata": {},
   "source": [
    "# Predict Citations with Word Vectors\n",
    "Here we try to predict whether a sentence needs a 'citation needed' tag or not based on\n",
    "1) Word vectors only (english, all languages)\n",
    "2) Word vectors + main sec indicator\n",
    "3) Word vectors + article position indicator\n"
   ]
  },
  {
   "cell_type": "code",
   "execution_count": 1,
   "metadata": {},
   "outputs": [
    {
     "name": "stderr",
     "output_type": "stream",
     "text": [
      "/usr/local/lib/python2.7/dist-packages/sklearn/cross_validation.py:41: DeprecationWarning: This module was deprecated in version 0.18 in favor of the model_selection module into which all the refactored classes and functions are moved. Also note that the interface of the new CV iterators are different from that of this module. This module will be removed in 0.20.\n",
      "  \"This module will be removed in 0.20.\", DeprecationWarning)\n"
     ]
    }
   ],
   "source": [
    "from sklearn.model_selection import train_test_split\n",
    "from sklearn.model_selection import cross_val_score\n",
    "from sklearn.model_selection import StratifiedKFold\n",
    "from sklearn.ensemble import RandomForestClassifier\n",
    "from sklearn.cross_validation import train_test_split\n",
    "from random import shuffle\n",
    "import numpy as np\n",
    "import hashlib\n",
    "\n",
    "DEPTH_SEARCH=[5,10,30, 50, 100, 200]\n",
    "NTREES_SEARCH=[5,10,30, 50, 100, 200]\n",
    "TEST_SIZE=0.33"
   ]
  },
  {
   "cell_type": "code",
   "execution_count": 2,
   "metadata": {},
   "outputs": [],
   "source": [
    "filenames={}\n",
    "filenames_raw={}\n",
    "\n",
    "\"\"\"\n",
    "to use this, you will need: \n",
    "1) features from https://drive.google.com/open?id=1JZu67psmj2Eou2-8wQEJk4kAQfg8GDs2, to be placed in ../fastText_multilingual/features\n",
    "\"\"\"\n",
    "languages=['en','fr','it']\n",
    "language_extended=['english','french','italian']\n",
    "feadir='../fastText_multilingual/features/'\n",
    "rawdir='../data_clean/'\n",
    "\n",
    "def load_languages():\n",
    "    for lan,lext in zip(languages,language_extended):\n",
    "        filenames[lan]=feadir+lan+'.tsv' #files with vectors\n",
    "        filenames_raw[lan]=rawdir+lext+'.tsv' #files with raw text\n",
    "\n",
    "def count_negatives(negatives,positives):\n",
    "    \"\"\"\n",
    "    for balanced data, we need to know how many negatives are out there\n",
    "    \"\"\"\n",
    "    proportion={}\n",
    "    allneg=0\n",
    "    for lan in languages:\n",
    "        proportion[lan]=len(negatives[lan])/float(len(negatives[lan])+len(positives[lan]))\n",
    "        allneg+=len(negatives[lan])\n",
    "    print 'proportion of negatives per language'\n",
    "    print proportion\n",
    "    return allneg\n",
    "\n",
    "def get_values_for_crossvalidation(positives,negatives,features):\n",
    "    \"\"\"\n",
    "    positives: list of positives\n",
    "    negatives: list of negatives\n",
    "    features: list of feature dictionaries, per type\n",
    "    \"\"\"\n",
    "    values=[]\n",
    "    y=[]\n",
    "    ids=[]\n",
    "    for lan in languages:\n",
    "        shuffle(positives[lan])\n",
    "        alldata=set(negatives[lan]+positives[lan][:len(negatives[lan])])\n",
    "        ids=ids+list(alldata)\n",
    "        for id in alldata:\n",
    "            v=[]\n",
    "            for f in features: #for every type of feature\n",
    "                if isinstance(f[id], int):\n",
    "                    v.append(f[id])\n",
    "                else:\n",
    "                    for element in f[id]: #append element of feature\n",
    "                        v.append(element)\n",
    "            values.append(np.nan_to_num(np.asarray(v)))\n",
    "            y.append(labels[id])          \n",
    "    #reshuffle everything for cross_validaton\n",
    "    ind=range(len(y))\n",
    "    shuffle(ind)\n",
    "    y2=[y[i] for i in ind]\n",
    "    values2=[values[i] for i in ind]\n",
    "    ids2=[ids[i] for i in ind]\n",
    "    return y2,values2,ids2\n",
    "\n",
    "def perform_gridsearch_withRFC(values,y):\n",
    "    \"\"\"\n",
    "    values: list of feature vectors\n",
    "    y: labels\n",
    "    returns\n",
    "    max_ind: depth and estimator values\n",
    "    max_val: crossval prediction accuracy\n",
    "    scores: all-scores for each combination of depth and nestimators\n",
    "    \"\"\"\n",
    "    scores={}\n",
    "    #performs cross_validation in all combiantions\n",
    "    for d in DEPTH_SEARCH:\n",
    "        for n in NTREES_SEARCH:\n",
    "            clf = RandomForestClassifier(max_depth=d, n_estimators=n)\n",
    "            s = cross_val_score(clf, values, y)\n",
    "            print s\n",
    "            scores[str(d)+' '+str(n)]=np.mean(s)\n",
    "    #computes best combination of parameters\n",
    "    max_ind=''\n",
    "    max_val=0\n",
    "    for s in scores:\n",
    "        if scores[s]>max_val:\n",
    "            max_val=scores[s]\n",
    "            max_ind=s\n",
    "    print max_ind\n",
    "    print max_val\n",
    "    return max_ind,max_val,scores\n",
    "\n",
    "def train_test_final(val_train,val_test,y_train,d,n):\n",
    "    \"\"\"\n",
    "    just using a Random Forestc classifier on a train/test split for deployment \n",
    "    returns model and probability on the test set\n",
    "    \"\"\"\n",
    "    clf = RandomForestClassifier(max_depth=d, n_estimators=n)\n",
    "    clf.fit(val_train,y_train)\n",
    "    prob=clf.predict_proba(val_test)\n",
    "    return clf,prob\n",
    "\n",
    "def print_top_bottom_sentences(prob,ids_test,y_test,text,labels):\n",
    "    \"\"\"\n",
    "    here we are displaying the \n",
    "    \"\"\"\n",
    "    pos_proba=(np.asarray(prob).T)[1]\n",
    "    indexes=np.argsort(-np.asarray(pos_proba))\n",
    "    for i in indexes[:10]:\n",
    "        print text[ids_test[i]]\n",
    "        print y_test[i]\n",
    "        print labels[ids_test[i]]#checking\n",
    "    print ('********************************')\n",
    "    for i in indexes[-10:]:\n",
    "        print text[ids_test[i]]\n",
    "        print y_test[i]\n",
    "        print pos_proba[i]\n",
    "        print labels[ids_test[i]]#checking"
   ]
  },
  {
   "cell_type": "markdown",
   "metadata": {},
   "source": [
    "Let's load labels and vectors.. \n"
   ]
  },
  {
   "cell_type": "code",
   "execution_count": 3,
   "metadata": {},
   "outputs": [],
   "source": [
    "load_languages()"
   ]
  },
  {
   "cell_type": "markdown",
   "metadata": {},
   "source": [
    "Now we load all data for prediction into different variables"
   ]
  },
  {
   "cell_type": "code",
   "execution_count": 4,
   "metadata": {},
   "outputs": [],
   "source": [
    "\"\"\"\n",
    "raw header is:\n",
    "entity_id\trevision_id\ttimestamp entity_title\tsection\tstart\toffset\tstatement label\n",
    "feature header is:\n",
    "entity_id\trevision_id\ttimestamp entity_title\tsection\tstart\toffset\t label feature\n",
    "\"\"\"\n",
    "labels={} #whether it needs a citation or not\n",
    "vectors={} #the word vectors aligned to english\n",
    "main={} #is it the main section?\n",
    "language={} #which language is the article from\n",
    "pages={} #length of the page\n",
    "start={} #starting point of the statement in the page\n",
    "pagelength={} #page length, this is for future use, if we want to track where the statement is placed in the page\n",
    "positives={}#statements with citation\n",
    "negatives={}#statements without citation\n",
    "text={}#raw text\n",
    "for lan in languages:\n",
    "    positives[lan]=[] #stores the statements needing a citation\n",
    "    negatives[lan]=[] #stores the statements without a citation (much less than the positives)\n",
    "    fraw=open(filenames_raw[lan]) #each line in fraw correspond to the line in f\n",
    "    #for each line in the vector file, record various parameters and then store the corresponding raw text with the same identifier\n",
    "    with open(filenames[lan]) as f:\n",
    "        for line in f:\n",
    "            unique=hashlib.sha224(line).hexdigest() #unique identifier of this line\n",
    "            #first, we store the raw statement text from the raw file\n",
    "            lineraw=fraw.readline() #line with raw text\n",
    "            rowraw=lineraw[:-1].split('\\t')\n",
    "            text[unique]=rowraw[-2] #where the text is placed in the line\n",
    "            #now, we can get features\n",
    "            row=line.split('\\t')\n",
    "            labels[unique]=int(row[-2])#where the label sits in the feature file\n",
    "            #first append to lists of positives and negatives depending on the label\n",
    "            if labels[unique]==1:\n",
    "                positives[lan].append(unique)\n",
    "            else:\n",
    "                negatives[lan].append(unique)\n",
    "            #store features\n",
    "            vectors[unique]=[float(r) for r in row[-1].split(',')]\n",
    "            main[unique]= 1 if row[4]=='MAIN_SECTION'else 0\n",
    "            language[unique]=lan\n",
    "            pages[unique]=int(row[0])\n",
    "            beginning=int(row[5])\n",
    "            offset=int(row[6])\n",
    "            l=beginning+offset\n",
    "            try:\n",
    "                base=pagelength[row[0]]\n",
    "                pagelength[row[0]]=l if l>base else base\n",
    "            except:\n",
    "                pagelength[row[0]]=l\n",
    "            start[unique]=beginning\n"
   ]
  },
  {
   "cell_type": "code",
   "execution_count": 5,
   "metadata": {},
   "outputs": [
    {
     "name": "stdout",
     "output_type": "stream",
     "text": [
      "proportion of negatives per language\n",
      "{'fr': 0.06976161231293711, 'en': 0.05151972709224618, 'it': 0.1304069891327509}\n"
     ]
    }
   ],
   "source": [
    "allneg=count_negatives(negatives,positives)"
   ]
  },
  {
   "cell_type": "markdown",
   "metadata": {},
   "source": [
    "We now select the data for training: all negatives + an equal number of positives, using only feature vectors"
   ]
  },
  {
   "cell_type": "code",
   "execution_count": 6,
   "metadata": {},
   "outputs": [],
   "source": [
    "y,values,ids=get_values_for_crossvalidation(positives,negatives,[vectors])"
   ]
  },
  {
   "cell_type": "markdown",
   "metadata": {},
   "source": [
    "We now run a grid search to find the good random forest parameter"
   ]
  },
  {
   "cell_type": "code",
   "execution_count": 7,
   "metadata": {},
   "outputs": [
    {
     "name": "stdout",
     "output_type": "stream",
     "text": [
      "[ 0.62306335  0.62678957  0.62750098]\n",
      "[ 0.6458129   0.64169445  0.64809729]\n",
      "[ 0.67444597  0.66875858  0.65476658]\n",
      "[ 0.67268092  0.67326927  0.65692428]\n",
      "[ 0.67523044  0.67542655  0.66359357]\n",
      "[ 0.67895666  0.67660326  0.65653197]\n",
      "[ 0.63384977  0.62208276  0.61690859]\n",
      "[ 0.65522652  0.65679545  0.64142801]\n",
      "[ 0.68013336  0.67777996  0.66555512]\n",
      "[ 0.68346735  0.68797803  0.68105139]\n",
      "[ 0.70013728  0.69346931  0.68654374]\n",
      "[ 0.70190233  0.7003334   0.69203609]\n",
      "[ 0.62169053  0.61816042  0.61082778]\n",
      "[ 0.62620122  0.62659345  0.62063554]\n",
      "[ 0.67660326  0.67934889  0.67143978]\n",
      "[ 0.69170426  0.69425378  0.69301687]\n",
      "[ 0.70700137  0.70347127  0.70302079]\n",
      "[ 0.71582663  0.71347323  0.70635543]\n",
      "[ 0.61404197  0.6156109   0.60690467]\n",
      "[ 0.62443616  0.63855658  0.63652413]\n",
      "[ 0.67228868  0.67503432  0.6612397 ]\n",
      "[ 0.6852324   0.69601883  0.68732836]\n",
      "[ 0.70719749  0.70857031  0.70145155]\n",
      "[ 0.71563052  0.71974897  0.70596312]\n",
      "[ 0.60835458  0.60462836  0.61435857]\n",
      "[ 0.62502451  0.62541675  0.62181248]\n",
      "[ 0.66503236  0.67797607  0.66830129]\n",
      "[ 0.69052755  0.69739165  0.68418988]\n",
      "[ 0.70052952  0.70602079  0.69654767]\n",
      "[ 0.7142577   0.71504217  0.70145155]\n",
      "[ 0.61698372  0.6307119   0.61220086]\n",
      "[ 0.63424201  0.63483036  0.6208317 ]\n",
      "[ 0.67679937  0.67307315  0.67850137]\n",
      "[ 0.68699745  0.68719357  0.68732836]\n",
      "[ 0.70464797  0.71111983  0.69027069]\n",
      "[ 0.71053148  0.7154344   0.71106316]\n",
      "50 200\n",
      "0.713780869656\n"
     ]
    }
   ],
   "source": [
    "max_ind,max_val,scores=perform_gridsearch_withRFC(values,y)"
   ]
  },
  {
   "cell_type": "code",
   "execution_count": null,
   "metadata": {},
   "outputs": [],
   "source": []
  },
  {
   "cell_type": "code",
   "execution_count": 9,
   "metadata": {},
   "outputs": [],
   "source": [
    "val_train, val_test, y_train, y_test, ids_train, ids_test = train_test_split(values, y, ids, test_size=TEST_SIZE, random_state=42)"
   ]
  },
  {
   "cell_type": "code",
   "execution_count": 10,
   "metadata": {
    "scrolled": true
   },
   "outputs": [
    {
     "name": "stdout",
     "output_type": "stream",
     "text": [
      "The Plainsman (1936) and John Ford's Stagecoach (1939).\n",
      "1\n",
      "1\n",
      "Singleton, Brian (2004). Oscar Asche, Orientalism, and British Musical Comedy. Westport, CT: Greenwood Publishing Group. p.75. ISBN978-0-275-97929-4.\n",
      "0\n",
      "0\n",
      "By 1924, many UFA Members of the Legislative Assembly (MLAs) wanted to see Greenfield leave office, both because they were frustrated with his failings and because they thought it likely that a Greenfield-led government would be defeated in the next election. Their first attempt to replace him failed when Brownlee, their intended replacement, refused to have anything to do with the plan, but a second attempt, in 1925, was successful when Brownlee agreed to take office if Greenfield personally requested that he do so. Greenfield had not wanted the job in the first place, and agreed to resign in Brownlee's favour.\n",
      "0\n",
      "0\n",
      "Thorpe spoke to reporters after his 100m race, saying: \"When I started this I wanted to get back into the pool. I wanted to start racing again, I wanted to be competitive again and I wanted to go to the Olympics. I still want to do all of those things. I've missed out on what was a huge goal for me to accomplish in this short period of time, but still the desire I had previous to this, it's still there.\" Essentially saying that his (relatively) slow times in the 100 and 200 meters were the result of too short a period to train and prepare, Thorpe announced he will continue training, setting as his (new) goal qualifying for the World Championships in 2013.\n",
      "0\n",
      "0\n",
      "They were not convinced that he was talented enough to pursue a musical career, but feeling it would be wrong to prevent him from trying, they had allowed him to go to the RCM.Adams (2013), p\n",
      "1\n",
      "1\n",
      "He considered himself vindicated when a move to override his veto failed in the Senate the following day. Johnson believed that the Radicals would now be isolated and defeated, and that the Moderate Republicans would form behind him; he did not understand that Moderates too wanted to see African Americans treated fairly.\n",
      "1\n",
      "1\n",
      "Although they may be used as terms of address, they are not surnames in the sense used by Europeans. Thus \"Minnie\" is the element of the artist's name that is specifically hers.\n",
      "1\n",
      "1\n",
      "You can be damn sure of that!\" Nevertheless, the Ohio senator believed that McKinley's policy of quietly pressing Spain for colonial reform in Cuba had already yielded results without war, and would continue to do so.\n",
      "1\n",
      "1\n",
      "He signed a four-year deal for a reported €6.8 (£4.6) million per season. It was revealed that the contract included a release clause of €125 (£84.9) million. Henry cited the departure of Dein and continued uncertainty over Wenger's future as reasons for leaving, and maintained that \"I always said that if I ever left Arsenal it would be to play for Barcelona.\" Despite their captain's departure, Arsenal got off to an impressive start for the 2007–08 campaign, and Henry admitted that his presence in the team might have been more of a hindrance than a help\n",
      "1\n",
      "1\n",
      "The hatch would have to be left open in order to run the extra wires out, and leaving the hatch open would make it impossible to run the emergency egress test that had been scheduled for the end of the day on the 27th. As Shea later told the press, joining the crew for the test \"would have been highly irregular\".\n",
      "1\n",
      "1\n",
      "********************************\n",
      "Breckinridge fled behind Confederate lines. He was commissioned a brigadier general and then expelled from the Senate. Following the Battle of Shiloh in 1862, he was promoted to major general, and in October he was assigned to the Army of Mississippi under Braxton Bragg. After Bragg charged that Breckinridge's drunkenness had contributed to defeats at Stone River and Missionary Ridge, and after Breckinridge joined many other high-ranking officers in criticizing Bragg, he was transferred to the Trans-Allegheny Department, where he won his most significant victory in the 1864 Battle of New Market. After participating in Jubal Early's campaigns in the Shenandoah Valley, Breckinridge was charged with defending supplies in Tennessee and Virginia. In February 1865, Confederate President Jefferson Davis appointed him Secretary of War. Concluding that the war was hopeless, he urged Davis to arrange a national surrender. After the fall of Richmond, Breckinridge ensured the preservation of Confederate records. He then escaped the country and lived abroad for more than three years. When President Andrew Johnson extended amnesty to all former Confederates in 1868, Breckinridge returned to Kentucky, but resisted all encouragement to resume his political career. War injuries sapped his health, and he died in 1875. Breckinridge is regarded as an effective military commander. Though well-liked in Kentucky, he was reviled by many in the North as a traitor.\n",
      "0\n",
      "0.0400254755208\n",
      "0\n",
      "Treloar's career was focussed on the Australian military and its history. Prior to World War I he worked as a clerk in the Department of Defence and, after volunteering for the AIF in 1914, formed part of the Australian Army officer Brudenell White's staff for most of the war's first years. He was appointed commander of the Australian War Records Section (AWRS) in 1917. In this position, he improved the AIF's records and collected a large number of artefacts for later display in Australia. Treloar was appointed the director of what eventually became the AWM in 1920, and was a key figure in establishing the Memorial and raising funds for its permanent building in Canberra. He left the AWM at the outbreak of World War II to lead the Australian Government's Department of Information, but was effectively sidelined for much of 1940. In early 1941 he was appointed to command the Australian military's Military History and Information Section with similar responsibilities to those he had held during World War I. He attempted to intervene in the management of the AWM during his absence, however, to the increasing frustration of its acting director. Treloar worked intensely in all his roles and suffered periods of ill-health as a result. Following the war, he returned to the Memorial in 1946 but his performance deteriorated over time, possibly due to exhaustion. He died in January 1952.\n",
      "0\n",
      "0.0301653641819\n",
      "0\n",
      "Although the population of native Catholics expanded greatly in the years following his consecration, Soegijapranata was soon faced with numerous trials. The Empire of Japan invaded the Indies beginning in early 1942, and during the ensuing occupation numerous churches were seized and clergymen were arrested or killed. Soegijapranata was able to resist several of these seizures, and spent the rest of the occupation serving the Catholics in his vicariate. After President Sukarno proclaimed the country's independence in August 1945, Semarang was overcome with unrest. Soegijapranata helped broker a ceasefire after a five-day battle between Japanese and Indonesian troops and called for the central government to send someone to deal with the unrest and food shortages in the city. However, these problems continued to grow, and in 1947 Soegijapranata moved his seat to Yogyakarta. For the remainder of the national revolution Soegijapranata worked to promote international recognition of Indonesia's independence. Soon after the Dutch, who had returned in late 1945, recognised the country's independence, Soegijapranata returned to Semarang. During the post-revolution years he wrote extensively against communism and expanded the church; he also served as a mediator between several political factions. He was made an archbishop on 3January 1961, when Semarang was elevated to an ecclesiastical province. At the time he was in Europe, participating in the first session of the Second Vatican Council. Soegijapranata died in 1963, in Steyl, the Netherlands. His body was flown back to Indonesia, where he was made a national hero and interred at Giri Tunggal Heroes' Cemetery in Semarang.\n",
      "0\n",
      "0.0300569519235\n",
      "0\n",
      "Plusieurs personnes et organisations ont dédié leur vie à répandre ses idées. Madeleine Slade, fille d'un amiral britannique, décida de tout quitter pour vivre en Inde avec Gandhi. Romain Rolland fut le premier à faire connaître la vie de Gandhi avec son livre Mahatma Gandhi. Lanza del Vasto alla en Inde en 1936 dans le but de vivre avec Gandhi. À son retour en Europe, il décida de propager la philosophie de Gandhi. En 1948, celui que Gandhi avait appelé Shantidas (Serviteur de la Paix) a fondé, dans une optique résolument chrétienne, les Communautés de l'Arche sur le modèle des ashrams gandhiens. Jean-Baptiste Libouban, membre des Communautés de l'Arche, est un des initiateurs du mouvement des Faucheurs volontaires, lequel inscrit ses luttes contre les OGM en plein champ dans une perspective non-violente. José Bové fut également un des disciples de Lanza del Vasto. La création en 1966 du Centre pour la Communication Non-Violente (dont le siège est à Albuquerque, États Unis ) par le psychologue Marshall Rosenberg s'est faite en référence à Gandhi et au pasteur Martin Luther-King.\n",
      "0\n",
      "0.0250569519235\n",
      "0\n",
      " Media related to PedroII of Brazil at Wikimedia Commons\n",
      "0\n",
      "0.015\n",
      "0\n",
      "Denmark Léonie Sonning Music Prize (1974)\n",
      "0\n",
      "0.005\n",
      "0\n",
      "DeMille\" id=\"mwug\">DeMille, Lubitsch, Vidor, Ford, Hawks, Cukor, ecc.).\n",
      "1\n",
      "0.005\n",
      "1\n",
      "Sources: Rowlands, Trautmann: The Biography, p.252; James, Manchester City: The Complete Record, pp.367–395.\n",
      "0\n",
      "0.005\n",
      "0\n",
      "\"Palace Theater advertisement\" (fee required). Evening Independent. Massilon, OH. August 18, 1928. p.11.\n",
      "0\n",
      "0.005\n",
      "0\n",
      "Joined NSDAP: March 1, 1931Party Number: 474,481\n",
      "0\n",
      "0.005\n",
      "0\n"
     ]
    }
   ],
   "source": [
    "clf,prob=train_test_final(val_train,val_test,y_train,50,200)\n",
    "print_top_bottom_sentences(prob,ids_test,y_test,text,labels)"
   ]
  },
  {
   "cell_type": "markdown",
   "metadata": {},
   "source": [
    "We now lok at the effect of adding the 'main' features, i.e. a feature = 1 if the sentence is in the main section"
   ]
  },
  {
   "cell_type": "code",
   "execution_count": 11,
   "metadata": {},
   "outputs": [],
   "source": [
    "y_m,values_m,ids_m=get_values_for_crossvalidation(positives,negatives,[vectors,main])"
   ]
  },
  {
   "cell_type": "code",
   "execution_count": 12,
   "metadata": {},
   "outputs": [
    {
     "name": "stdout",
     "output_type": "stream",
     "text": [
      "[ 0.65954109  0.69052755  0.670459  ]\n",
      "[ 0.68248676  0.71680722  0.69203609]\n",
      "[ 0.69562659  0.7050402   0.72302864]\n",
      "[ 0.69994116  0.72680918  0.70929776]\n",
      "[ 0.70798196  0.72504413  0.72499019]\n",
      "[ 0.7050402   0.72327907  0.71734013]\n",
      "[ 0.65797215  0.66817023  0.67948215]\n",
      "[ 0.69464601  0.71484605  0.69615536]\n",
      "[ 0.73386939  0.74073348  0.73891722]\n",
      "[ 0.72837811  0.75093156  0.75107885]\n",
      "[ 0.74014513  0.75583448  0.75284425]\n",
      "[ 0.74740145  0.75406943  0.75304041]\n",
      "[ 0.67346539  0.64561679  0.65515889]\n",
      "[ 0.68385958  0.69346931  0.66888976]\n",
      "[ 0.71876839  0.72955481  0.72812868]\n",
      "[ 0.73583056  0.74838204  0.74440957]\n",
      "[ 0.75053932  0.76407139  0.75676736]\n",
      "[ 0.758384    0.76250245  0.7618674 ]\n",
      "[ 0.66424789  0.65601098  0.66928207]\n",
      "[ 0.68425181  0.70111787  0.68340526]\n",
      "[ 0.72524024  0.73739949  0.73675951]\n",
      "[ 0.73641891  0.73661502  0.75205963]\n",
      "[ 0.75544224  0.75583448  0.7565712 ]\n",
      "[ 0.75975682  0.76564032  0.76579051]\n",
      "[ 0.6609139   0.69150814  0.66555512]\n",
      "[ 0.67699549  0.69111591  0.69556689]\n",
      "[ 0.72680918  0.73426162  0.72283248]\n",
      "[ 0.73739949  0.74269465  0.74931346]\n",
      "[ 0.75799176  0.75759953  0.75715967]\n",
      "[ 0.76465974  0.76564032  0.76441742]\n",
      "[ 0.66267896  0.67464209  0.66790898]\n",
      "[ 0.67660326  0.69386154  0.67477442]\n",
      "[ 0.7189645   0.73955678  0.71773244]\n",
      "[ 0.73661502  0.74583252  0.74382111]\n",
      "[ 0.75799176  0.75916846  0.75343272]\n",
      "[ 0.76211022  0.76877819  0.76108278]\n",
      "100 200\n",
      "0.76490582581\n"
     ]
    }
   ],
   "source": [
    "max_ind,max_val,scores=perform_gridsearch_withRFC(values_m,y_m)"
   ]
  },
  {
   "cell_type": "code",
   "execution_count": 13,
   "metadata": {},
   "outputs": [],
   "source": [
    "val_train, val_test, y_train, y_test, ids_train, ids_test = train_test_split(values, y, ids, test_size=TEST_SIZE, random_state=42)"
   ]
  },
  {
   "cell_type": "code",
   "execution_count": 14,
   "metadata": {
    "scrolled": true
   },
   "outputs": [
    {
     "name": "stdout",
     "output_type": "stream",
     "text": [
      "Singleton, Brian (2004). Oscar Asche, Orientalism, and British Musical Comedy. Westport, CT: Greenwood Publishing Group. p.75. ISBN978-0-275-97929-4.\n",
      "0\n",
      "0\n",
      "The Plainsman (1936) and John Ford's Stagecoach (1939).\n",
      "1\n",
      "1\n",
      "By 1924, many UFA Members of the Legislative Assembly (MLAs) wanted to see Greenfield leave office, both because they were frustrated with his failings and because they thought it likely that a Greenfield-led government would be defeated in the next election. Their first attempt to replace him failed when Brownlee, their intended replacement, refused to have anything to do with the plan, but a second attempt, in 1925, was successful when Brownlee agreed to take office if Greenfield personally requested that he do so. Greenfield had not wanted the job in the first place, and agreed to resign in Brownlee's favour.\n",
      "0\n",
      "0\n",
      "He considered himself vindicated when a move to override his veto failed in the Senate the following day. Johnson believed that the Radicals would now be isolated and defeated, and that the Moderate Republicans would form behind him; he did not understand that Moderates too wanted to see African Americans treated fairly.\n",
      "1\n",
      "1\n",
      "They were not convinced that he was talented enough to pursue a musical career, but feeling it would be wrong to prevent him from trying, they had allowed him to go to the RCM.Adams (2013), p\n",
      "1\n",
      "1\n",
      "He demanded four parachutes to force the assumption that he might compel one or more hostages to jump with him, thus ensuring he would not be deliberately supplied with sabotaged equipment. He chose a 727-100 aircraft because it was ideal for a bail-out escape, due not only to its aft airstair but also the high, aftward placement of all three engines, which allowed a reasonably safe jump without risk of immediate incineration by jet exhaust\n",
      "1\n",
      "1\n",
      "He hoped that Ramaphosa would succeed him, believing Mbeki to be too inflexible and intolerant of criticism, but the ANC elected Mbeki regardless. Mandela and the Executive supported Jacob Zuma, a Zulu who had been imprisoned on Robben Island, as Mbeki's replacement for Deputy President\n",
      "1\n",
      "1\n",
      "Shand also established that Barnes had then shown the films to raise money for various charities. He further showed that Barnes had not agitated when reminded of the policy against players meeting with family members on tour. However, Johnson believed that the cumulative effect of the misdeeds \"warranted omission from the team\" and he saw no problem in the fact that his verbal advice to the board recommending Barnes' exclusion was at odds with the written report on the 1948 tour. Under pressure from Shand, Johnson admitted that \"I don't always write what I think\". According to Haigh, \"Shand effortlessly twisted him [Johnson] inside out\".\n",
      "1\n",
      "1\n",
      "Wisden commented that: \"At no time was the wicket easy for batting and Australia won largely because they possessed better spin bowling.\" Verity took two wickets in the match, but some critics believed his bowling could have won the match had Hammond used him more effectively\n",
      "1\n",
      "1\n",
      "He signed a four-year deal for a reported €6.8 (£4.6) million per season. It was revealed that the contract included a release clause of €125 (£84.9) million. Henry cited the departure of Dein and continued uncertainty over Wenger's future as reasons for leaving, and maintained that \"I always said that if I ever left Arsenal it would be to play for Barcelona.\" Despite their captain's departure, Arsenal got off to an impressive start for the 2007–08 campaign, and Henry admitted that his presence in the team might have been more of a hindrance than a help\n",
      "1\n",
      "1\n",
      "********************************\n",
      "Kościuszko was born in February 1746, in a manor house on the Mereczowszczyzna estate in Nowogródek Voivodeship, Grand Duchy of Lithuania, a part of the Polish–Lithuanian Commonwealth. His exact birthdate is unknown. At age 20, he graduated from the Corps of Cadets in Warsaw, Poland, but after the outbreak of a civil war involving the Bar Confederation in 1768, Kościuszko moved to France in 1769 to pursue further studies. He returned to Poland in 1774, two years after its First Partition, and took a position as tutor in Józef Sylwester Sosnowski's household. After Kościuszko attempted to elope with his employer's daughter and was severely beaten by the father's retainers, he returned to France. In 1776, Kościuszko moved to North America, where he took part in the American Revolutionary War as a colonel in the Continental Army. An accomplished military architect, he designed and oversaw the construction of state-of-the-art fortifications, including those at West Point, New York. In 1783, in recognition of his services, the Continental Congress promoted him to brigadier general.\n",
      "0\n",
      "0.03\n",
      "0\n",
      "Although the population of native Catholics expanded greatly in the years following his consecration, Soegijapranata was soon faced with numerous trials. The Empire of Japan invaded the Indies beginning in early 1942, and during the ensuing occupation numerous churches were seized and clergymen were arrested or killed. Soegijapranata was able to resist several of these seizures, and spent the rest of the occupation serving the Catholics in his vicariate. After President Sukarno proclaimed the country's independence in August 1945, Semarang was overcome with unrest. Soegijapranata helped broker a ceasefire after a five-day battle between Japanese and Indonesian troops and called for the central government to send someone to deal with the unrest and food shortages in the city. However, these problems continued to grow, and in 1947 Soegijapranata moved his seat to Yogyakarta. For the remainder of the national revolution Soegijapranata worked to promote international recognition of Indonesia's independence. Soon after the Dutch, who had returned in late 1945, recognised the country's independence, Soegijapranata returned to Semarang. During the post-revolution years he wrote extensively against communism and expanded the church; he also served as a mediator between several political factions. He was made an archbishop on 3January 1961, when Semarang was elevated to an ecclesiastical province. At the time he was in Europe, participating in the first session of the Second Vatican Council. Soegijapranata died in 1963, in Steyl, the Netherlands. His body was flown back to Indonesia, where he was made a national hero and interred at Giri Tunggal Heroes' Cemetery in Semarang.\n",
      "0\n",
      "0.02\n",
      "0\n",
      "In the decade following World War II, Eaton led No.81 Wing in Japan, and No.78 Wing in Malta. He commanded RAAF Base Williamtown from 1957 to 1959, after which he was appointed a Commander of the Order of the British Empire. As Director-General of Operational Requirements in 1965, Eaton argued for increased RAAF co-operation with the Australian Army in light of growing involvement in the Vietnam War. He was promoted to air vice marshal the next year, and became Deputy Chief of the Air Staff. Posted to Singapore as Air Officer Commanding (AOC) No.224 Group RAF in 1967, he was appointed a Companion of the Order of the Bath for his work as chief of staff at Headquarters RAF Far East Air Force in 1969. He then served as Air Member for Personnel, before being selected as AOC Operational Command in 1973. Eaton retired from the RAAF in December that year, and became an executive for Rolls-Royce in Canberra. He died in 1992 at the age of 75.\n",
      "0\n",
      "0.02\n",
      "0\n",
      "Treloar's career was focussed on the Australian military and its history. Prior to World War I he worked as a clerk in the Department of Defence and, after volunteering for the AIF in 1914, formed part of the Australian Army officer Brudenell White's staff for most of the war's first years. He was appointed commander of the Australian War Records Section (AWRS) in 1917. In this position, he improved the AIF's records and collected a large number of artefacts for later display in Australia. Treloar was appointed the director of what eventually became the AWM in 1920, and was a key figure in establishing the Memorial and raising funds for its permanent building in Canberra. He left the AWM at the outbreak of World War II to lead the Australian Government's Department of Information, but was effectively sidelined for much of 1940. In early 1941 he was appointed to command the Australian military's Military History and Information Section with similar responsibilities to those he had held during World War I. He attempted to intervene in the management of the AWM during his absence, however, to the increasing frustration of its acting director. Treloar worked intensely in all his roles and suffered periods of ill-health as a result. Following the war, he returned to the Memorial in 1946 but his performance deteriorated over time, possibly due to exhaustion. He died in January 1952.\n",
      "0\n",
      "0.02\n",
      "0\n",
      "\"Palace Theater advertisement\" (fee required). Evening Independent. Massilon, OH. August 18, 1928. p.11.\n",
      "0\n",
      "0.015\n",
      "0\n",
      "Sources: Rowlands, Trautmann: The Biography, p.252; James, Manchester City: The Complete Record, pp.367–395.\n",
      "0\n",
      "0.015\n",
      "0\n",
      "DeMille\" id=\"mwug\">DeMille, Lubitsch, Vidor, Ford, Hawks, Cukor, ecc.).\n",
      "1\n",
      "0.015\n",
      "1\n",
      "Denmark Léonie Sonning Music Prize (1974)\n",
      "0\n",
      "0.015\n",
      "0\n",
      "Joined NSDAP: March 1, 1931Party Number: 474,481\n",
      "0\n",
      "0.015\n",
      "0\n",
      " Media related to PedroII of Brazil at Wikimedia Commons\n",
      "0\n",
      "0.005\n",
      "0\n"
     ]
    }
   ],
   "source": [
    "clf,prob=train_test_final(val_train,val_test,y_train,100,200)\n",
    "print_top_bottom_sentences(prob,ids_test,y_test,text,labels)"
   ]
  },
  {
   "cell_type": "code",
   "execution_count": null,
   "metadata": {},
   "outputs": [],
   "source": []
  }
 ],
 "metadata": {
  "kernelspec": {
   "display_name": "Python 2",
   "language": "python",
   "name": "python2"
  },
  "language_info": {
   "codemirror_mode": {
    "name": "ipython",
    "version": 2
   },
   "file_extension": ".py",
   "mimetype": "text/x-python",
   "name": "python",
   "nbconvert_exporter": "python",
   "pygments_lexer": "ipython2",
   "version": "2.7.12"
  }
 },
 "nbformat": 4,
 "nbformat_minor": 2
}
