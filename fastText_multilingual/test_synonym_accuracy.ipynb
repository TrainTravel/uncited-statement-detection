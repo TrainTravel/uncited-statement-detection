{
 "cells": [
  {
   "cell_type": "markdown",
   "metadata": {},
   "source": [
    "# Generate Sentence represenations aligned to English"
   ]
  },
  {
   "cell_type": "markdown",
   "metadata": {},
   "source": [
    "\n",
    "\n",
    "First, let's define a few simple functions... (from https://github.com/Babylonpartners/fastText_multilingual)"
   ]
  },
  {
   "cell_type": "code",
   "execution_count": 13,
   "metadata": {},
   "outputs": [],
   "source": [
    "import numpy as np\n",
    "from fasttext import FastVector\n",
    "\n",
    "languages=['en','it']\n",
    "language_extended=['english','french','italian']\n",
    "\"\"\"\n",
    "to use this, you will need: \n",
    "1) alignment matrices from https://github.com/Babylonpartners/fastText_multilingual - place in alignemnt_matrices/\n",
    "2) Vectors from https://github.com/facebookresearch/fastText/blob/master/pretrained-vectors.md - place in vectors/\n",
    "\"\"\"\n",
    "\n",
    "matrix_dir='alignment_matrices/'\n",
    "dic_dir='vectors/wiki.'\n",
    "rawdir='../data_clean/'\n",
    "infile='translations.tsv'\n",
    "\n",
    "dictionary={}\n",
    "filenames={}\n",
    "words={}\n",
    "\n",
    "# from https://stackoverflow.com/questions/21030391/how-to-normalize-array-numpy\n",
    "def normalized(a, axis=-1, order=2):\n",
    "    \"\"\"Utility function to normalize the rows of a numpy array.\"\"\"\n",
    "    l2 = np.atleast_1d(np.linalg.norm(a, order, axis))\n",
    "    l2[l2==0] = 1\n",
    "    return a / np.expand_dims(l2, axis)\n",
    "\n",
    "def make_training_matrices(source_dictionary, target_dictionary, bilingual_dictionary):\n",
    "    \"\"\"\n",
    "    Source and target dictionaries are the FastVector objects of\n",
    "    source/target languages. bilingual_dictionary is a list of \n",
    "    translation pair tuples [(source_word, target_word), ...].\n",
    "    \"\"\"\n",
    "    source_matrix = []\n",
    "    target_matrix = []\n",
    "\n",
    "    for (source, target) in bilingual_dictionary:\n",
    "        if source in source_dictionary and target in target_dictionary:\n",
    "            source_matrix.append(source_dictionary[source])\n",
    "            target_matrix.append(target_dictionary[target])\n",
    "\n",
    "    # return training matrices\n",
    "    return np.array(source_matrix), np.array(target_matrix)\n",
    "\n",
    "def learn_transformation(source_matrix, target_matrix, normalize_vectors=True):\n",
    "    \"\"\"\n",
    "    Source and target matrices are numpy arrays, shape\n",
    "    (dictionary_length, embedding_dimension). These contain paired\n",
    "    word vectors from the bilingual dictionary.\n",
    "    \"\"\"\n",
    "    # optionally normalize the training vectors\n",
    "    if normalize_vectors:\n",
    "        source_matrix = normalized(source_matrix)\n",
    "        target_matrix = normalized(target_matrix)\n",
    "\n",
    "    # perform the SVD\n",
    "    product = np.matmul(source_matrix.transpose(), target_matrix)\n",
    "    U, s, V = np.linalg.svd(product)\n",
    "\n",
    "    # return orthogonal transformation which aligns source language to the target\n",
    "    return np.matmul(U, V)"
   ]
  },
  {
   "cell_type": "markdown",
   "metadata": {},
   "source": [
    "Function to load filenames and word vectors. Non-english vectors are aligned to english"
   ]
  },
  {
   "cell_type": "code",
   "execution_count": 66,
   "metadata": {},
   "outputs": [],
   "source": [
    "def load_words():\n",
    "    with open(infile,'rU') as f:\n",
    "        for line in f:\n",
    "            print line\n",
    "            row=line[:-1].split('\\t')\n",
    "            words[row[0]]=row[1]\n",
    "\n",
    "def load_dictionaries():\n",
    "    for lan in languages:\n",
    "        #load word vector dictionaries\n",
    "        dictionary[lan]= FastVector(vector_file=dic_dir+lan+'.vec')\n",
    "        #aligning all vectors to english\n",
    "        if lan !='en':\n",
    "            dictionary[lan].apply_transform(matrix_dir+lan+'.txt')\n"
   ]
  },
  {
   "cell_type": "markdown",
   "metadata": {},
   "source": [
    "Finally, we represent each word with an aligned vector and retrieve the closest translation for each language"
   ]
  },
  {
   "cell_type": "code",
   "execution_count": 67,
   "metadata": {},
   "outputs": [
    {
     "name": "stdout",
     "output_type": "stream",
     "text": [
      "legendary\tleggendario\n",
      "\n",
      "great\tmagnifico\n",
      "\n",
      "acclaimed\tacclamato\n",
      "\n",
      "iconic\ticonico\n",
      "\n",
      "visionary\tvisionario\n",
      "\n",
      "outstanding\teccezionale\n",
      "\n",
      "leading\tprincipale\n",
      "\n",
      "celebrated\tcelebrato\n",
      "\n",
      "landmark\tmonumentale\n",
      "\n",
      "innovative\tinnovativo\n",
      "\n",
      "extraordinary\tstraordinario\n",
      "\n",
      "brilliant\tbrillante\n",
      "\n",
      "hit\tsuccesso\n",
      "\n",
      "famous\tfamoso\n",
      "\n",
      "renowned\trinomato\n",
      "\n",
      "remarkable\tnotevole\n",
      "\n",
      "prestigious\tprestigioso\n",
      "\n",
      "respected\trispettato\n",
      "\n",
      "notable\tnoto\n",
      "\n",
      "virtuoso\tvirtuoso\n",
      "\n",
      "honorable\tpremiato\n",
      "\n",
      "awesome\tstupendo\n",
      "\n",
      "unique\tunico\n",
      "\n",
      "cult\tcult\n",
      "\n",
      "racist\trazzista\n",
      "\n",
      "perverted\tpervertito\n",
      "\n",
      "sect\tsetta\n",
      "\n",
      "fundamentalist\tfondamentalista\n",
      "\n",
      "heretic\teretico\n",
      "\n",
      "extremist\testremista\n",
      "\n",
      "denialist\tnegazionista\n",
      "\n",
      "terrorist\tterrorista\n",
      "\n",
      "bigot\tbigotto\n",
      "\n",
      "myth\tmito\n",
      "\n",
      "pseudo\tpseudo\n",
      "\n",
      "controversial\tcontroverso\n",
      "\n",
      "reveal\trivelare\n",
      "\n",
      "clarify\tchiarificare\n",
      "\n",
      "expose\trivelare\n",
      "\n",
      "explain\tspiegare\n",
      "\n",
      "find\ttrovare\n",
      "\n",
      "note\tnotare\n",
      "\n",
      "observe\tosservare\n",
      "\n",
      "insist\tinsistere\n",
      "\n",
      "speculate\tipotizzare\n",
      "\n",
      "surmise\tcongetturare\n",
      "\n",
      "claim\taffermare\n",
      "\n",
      "assert\tasserire\n",
      "\n",
      "admit\tammettere\n",
      "\n",
      "confess\tconfessare\n",
      "\n",
      "deny\tnegare\n",
      "\n",
      "say\tdire\n",
      "\n",
      "{'fundamentalist': 'fondamentalista', 'controversial': 'controverso', 'perverted': 'pervertito', 'remarkable': 'notevole', 'outstanding': 'eccezionale', 'awesome': 'stupendo', 'insist': 'insistere', 'respected': 'rispettato', 'prestigious': 'prestigioso', 'say': 'dire', 'acclaimed': 'acclamato', 'innovative': 'innovativo', 'extremist': 'estremista', 'find': 'trovare', 'surmise': 'congetturare', 'renowned': 'rinomato', 'terrorist': 'terrorista', 'bigot': 'bigotto', 'leading': 'principale', 'explain': 'spiegare', 'celebrated': 'celebrato', 'note': 'notare', 'racist': 'razzista', 'honorable': 'premiato', 'speculate': 'ipotizzare', 'hit': 'successo', 'myth': 'mito', 'reveal': 'rivelare', 'expose': 'rivelare', 'visionary': 'visionario', 'notable': 'noto', 'iconic': 'iconico', 'virtuoso': 'virtuoso', 'assert': 'asserire', 'famous': 'famoso', 'observe': 'osservare', 'legendary': 'leggendario', 'cult': 'cult', 'clarify': 'chiarificare', 'unique': 'unico', 'denialist': 'negazionista', 'heretic': 'eretico', 'great': 'magnifico', 'deny': 'negare', 'extraordinary': 'straordinario', 'brilliant': 'brillante', 'pseudo': 'pseudo', 'claim': 'affermare', 'admit': 'ammettere', 'sect': 'setta', 'landmark': 'monumentale', 'confess': 'confessare'}\n"
     ]
    }
   ],
   "source": [
    "#first load variables and dictionaries\n",
    "words={}\n",
    "load_words()\n",
    "#load_dictionaries()\n",
    "print words"
   ]
  },
  {
   "cell_type": "code",
   "execution_count": 69,
   "metadata": {
    "scrolled": false
   },
   "outputs": [
    {
     "name": "stdout",
     "output_type": "stream",
     "text": [
      "0.615384615385\n"
     ]
    }
   ],
   "source": [
    "l=len(dictionary['en']['hi'])\n",
    "translations={}\n",
    "#for every language, generate aligned vectors for clean sentences and write to file\n",
    "cw=0\n",
    "cc=0\n",
    "for w in words:\n",
    "    out=dictionary['it'].translate_nearest_neighbour(dictionary['en'][w])\n",
    "    translations[w]=out\n",
    "    if words[w]==translations[w]:\n",
    "        cc+=1\n",
    "    cw+=1\n",
    "print cc/float(cw)"
   ]
  },
  {
   "cell_type": "code",
   "execution_count": 23,
   "metadata": {},
   "outputs": [
    {
     "name": "stdout",
     "output_type": "stream",
     "text": [
      "{'': '\\n', 'fundamentalist': 'fondamentalista\\n', 'controversial': 'controverso\\n', 'perverted': 'pervertito\\n', 'remarkable': 'notevole\\n', 'outstanding': 'eccezionale\\n', 'awesome': 'eccezionale\\n', 'insist': 'insistere\\n', 'speculate': 'speculare\\n', 'respected': 'rispettato\\n', 'prestigious': 'prestigioso\\n', 'pseudo-': 'pseudo\\n', 'acclaimed': 'acclamato\\n', 'innovative': 'innovativo\\n', 'extremist': 'estremista\\n', 'find': 'trovare\\n', '-gate': '-gate\\n', 'renowned': 'rinomato\\n', 'terrorist': 'terrorista\\n', 'bigot': 'bigotto\\n', 'leading': 'principale\\n', 'explain': 'spiegare\\n', 'celebrated': 'celebrato\\n', 'note': 'notare\\n', 'racist': 'razzista\\n', 'honorable': 'onorevole\\n', 'surmise': 'congetturare\\n', 'point out': 'notare\\n', 'hit': 'successo\\n', 'said': 'dire\\n', 'myth': 'mito\\n', 'reveal': 'rivelare\\n', 'expose': 'esporre\\n', 'visionary': 'visionario\\n', 'notable': 'noto\\n', 'iconic': 'iconico\\n', 'virtuoso': 'virtuoso\\n', 'assert': 'asserire\\n', 'famous': 'famoso\\n', 'observe': 'osservare\\n', 'cutting-edge': \"all'avanguardia\\n\", 'cult': 'cult\\n', 'clarify': 'chiarificare\\n', 'unique': 'unico\\n', 'denialist': 'negazionista\\n', 'heretic': 'eretico\\n', 'deny': 'negare\\n', 'extraordinary': 'straordinario\\n', 'brilliant': 'brillante\\n', 'claim': 'affermare\\n', 'admit': 'ammettere\\n', 'world-class': 'mondiale\\n', 'sect': 'setta\\n', 'landmark': 'pietra miliare\\n', 'award-winning': 'premiato\\n', 'freedom fighter': 'partigiano\\n', 'confess': 'confessare\\n', 'neo-Nazi': 'neonazista\\n'}\n"
     ]
    }
   ],
   "source": [
    "print words"
   ]
  },
  {
   "cell_type": "code",
   "execution_count": null,
   "metadata": {},
   "outputs": [],
   "source": []
  }
 ],
 "metadata": {
  "kernelspec": {
   "display_name": "Python 2",
   "language": "python",
   "name": "python2"
  },
  "language_info": {
   "codemirror_mode": {
    "name": "ipython",
    "version": 2
   },
   "file_extension": ".py",
   "mimetype": "text/x-python",
   "name": "python",
   "nbconvert_exporter": "python",
   "pygments_lexer": "ipython2",
   "version": "2.7.12"
  }
 },
 "nbformat": 4,
 "nbformat_minor": 1
}
